{
 "cells": [
  {
   "cell_type": "markdown",
   "id": "ea1226af-0703-4c67-8f11-8fa1babe2069",
   "metadata": {},
   "source": [
    "# Product inventory"
   ]
  },
  {
   "cell_type": "code",
   "execution_count": 29,
   "id": "0df570dc-9722-4b4e-a55f-7ce260021233",
   "metadata": {},
   "outputs": [],
   "source": [
    "class Product:\n",
    "\n",
    "    def __init__(self, product_id, name, category, price = 2.5, quantity = 4):\n",
    "\n",
    "        if not isinstance(quantity, int):\n",
    "            raise TypeError(\"quantity must be an int\")\n",
    "        if not isinstance(price, (int, float)):\n",
    "            raise TypeError(\"price must be a number\")\n",
    "        if quantity < 0:\n",
    "            raise ValueError(\"quantity cannot be negative\")\n",
    "        if price < 0:\n",
    "            raise ValueError(\"price cannot be negative\")  \n",
    "        \n",
    "        self.product_id = product_id\n",
    "        self.name = name\n",
    "        self.category = category\n",
    "        self.price = price\n",
    "        self.quantity = quantity\n",
    "\n",
    "    def value(self):\n",
    "        return self.price * self.quantity\n",
    "        print(f'Value: {self.price * self.quantity}')\n",
    "\n",
    "    def adjust_qty(self, delta):\n",
    "\n",
    "        if not isinstance(delta, int):\n",
    "            raise TypeError(\"delta must be an int\")\n",
    "        new_qty = self.quantity + delta \n",
    "        if new_qty < 0:\n",
    "            raise ValueError(\"Insufficient stock\")\n",
    "        self.quantity = new_qty\n",
    "        print(f'Quantity updated to {self.quantity}')\n",
    "        "
   ]
  },
  {
   "cell_type": "code",
   "execution_count": 30,
   "id": "562727de-fcda-4f60-9fcd-ff939aa57866",
   "metadata": {},
   "outputs": [],
   "source": [
    "class Inventory:\n",
    "\n",
    "    def __init__(self):\n",
    "        self._items = {}\n",
    "\n",
    "    def add(self, product):         # ensure product is a Product; reject duplicate IDs\n",
    "        if product.product_id in self._items:\n",
    "            raise ValueError(\"Product id already exists.\")\n",
    "        self._items[product.product_id] = product\n",
    "\n",
    "    def get(self, product_id):      # return Product or raise KeyError\n",
    "        if product_id not in self._items:\n",
    "            raise KeyError(\"No such product.\")\n",
    "        return self._items[product_id]\n",
    "\n",
    "    def remove(self, product_id):   # delete by id or raise KeyError\n",
    "        if product_id not in self._items:\n",
    "            raise KeyError(\"No such product.\")\n",
    "            \n",
    "        else:\n",
    "            return self._items.pop(product_id)\n",
    "\n",
    "    def restock(self, product_id, amount):\n",
    "        if not isinstance(amount, int) or amount <= 0:\n",
    "            raise ValueError(\"amount must be a positive integer\")\n",
    "        else:\n",
    "            prod = self.get(product_id)               # raises KeyError if missing\n",
    "            # this uses the method get which already return an error if such product does not exist\n",
    "            return prod.adjust_qty(+amount)\n",
    "\n",
    "    def sell(self, product_id, amount):\n",
    "        if not isinstance(amount, int) or amount <= 0:\n",
    "            raise ValueError(\"amount must be a positive integer\")\n",
    "        prod = self.get(product_id)\n",
    "        \n",
    "        if prod.quantity < amount:\n",
    "            raise ValueError(f\"Not enough stock for {prod.name}: have {prod.quantity}, need {amount}\")\n",
    "        return prod.adjust_qty(-amount)  \n",
    "\n",
    "    def total_value(self):\n",
    "        return sum(p.value() for p in self._items.values())\n",
    "\n",
    "    def low_stock(self): \n",
    "        return [p for p in self._items.values() if p.quantity <= getattr(p, \"min_qty\", 0)]\n",
    "            \n",
    "    "
   ]
  },
  {
   "cell_type": "code",
   "execution_count": 31,
   "id": "63469f0b-2c78-46bd-9f6c-647631e5047b",
   "metadata": {},
   "outputs": [
    {
     "name": "stdout",
     "output_type": "stream",
     "text": [
      "Pen 4 10.0\n"
     ]
    }
   ],
   "source": [
    "p = Product(\"P1\", \"Pen\", \"Stationery\", price = 2.5, quantity = 4)\n",
    "print(p.name, p.quantity, p.value())   # expect: Pen 4 10.0"
   ]
  },
  {
   "cell_type": "code",
   "execution_count": 32,
   "id": "8e065072-16f2-438c-95bf-cdcdc8457a14",
   "metadata": {},
   "outputs": [
    {
     "name": "stdout",
     "output_type": "stream",
     "text": [
      "Pen\n",
      "13.0\n"
     ]
    }
   ],
   "source": [
    "inv = Inventory()\n",
    "p1 = Product(\"P1\", \"Pen\", \"Stationery\", 2.5, 4)\n",
    "p2 = Product(\"P2\", \"Notebook\", \"Stationery\", 3.0, 1)\n",
    "\n",
    "inv.add(p1)\n",
    "inv.add(p2)\n",
    "\n",
    "print(inv.get(\"P1\").name)              # expect: Pen\n",
    "print(round(inv.total_value(), 2))     # expect: 13.0  (2.5*4 + 3.0*1)\n"
   ]
  },
  {
   "cell_type": "code",
   "execution_count": 28,
   "id": "7cb40d42-0f91-4712-aa45-c1cc34c47da6",
   "metadata": {},
   "outputs": [
    {
     "name": "stdout",
     "output_type": "stream",
     "text": [
      "P1 3 4 10.0\n",
      "P2 3.0 1 10.0\n"
     ]
    }
   ],
   "source": [
    "for pid, p in inv._items.items():\n",
    "    print(pid, p.price, p.quantity, p.value())"
   ]
  },
  {
   "cell_type": "code",
   "execution_count": 12,
   "id": "21ec069c-640d-45d0-929a-e1707bf46f53",
   "metadata": {},
   "outputs": [
    {
     "name": "stdout",
     "output_type": "stream",
     "text": [
      "4\n",
      "Quantity updated to 7\n",
      "7\n",
      "Quantity updated to 2\n",
      "2\n"
     ]
    }
   ],
   "source": [
    "inv = Inventory()\n",
    "p = Product(\"P1\", \"Pen\", \"Stationery\", 2.5, 4)\n",
    "inv.add(p)\n",
    "\n",
    "print(inv.get(\"P1\").quantity)          # 4\n",
    "inv.restock(\"P1\", 3)\n",
    "print(inv.get(\"P1\").quantity)          # 7\n",
    "inv.sell(\"P1\", 5)\n",
    "print(inv.get(\"P1\").quantity)          # 2\n"
   ]
  },
  {
   "cell_type": "code",
   "execution_count": 13,
   "id": "e48118d9-ce6e-48d5-bf47-d4644633975b",
   "metadata": {},
   "outputs": [
    {
     "name": "stdout",
     "output_type": "stream",
     "text": [
      "ValueError Not enough stock for Pen: have 1, need 2\n"
     ]
    }
   ],
   "source": [
    "inv = Inventory()\n",
    "p = Product(\"P1\", \"Pen\", \"Stationery\", 2.5, 1)\n",
    "inv.add(p)\n",
    "\n",
    "try:\n",
    "    inv.sell(\"P1\", 2)                  # would go negative\n",
    "except Exception as e:\n",
    "    print(type(e).__name__, e)         # expect: ValueError \"insufficient stock\" (or your message)\n"
   ]
  },
  {
   "cell_type": "code",
   "execution_count": 14,
   "id": "39285b36-1824-4566-a0fb-b3b52f74a507",
   "metadata": {},
   "outputs": [
    {
     "name": "stdout",
     "output_type": "stream",
     "text": [
      "ValueError Product id already exists.\n"
     ]
    }
   ],
   "source": [
    "inv = Inventory()\n",
    "p = Product(\"P1\", \"Pen\", \"Stationery\", 2.5, 4)\n",
    "inv.add(p)\n",
    "\n",
    "try:\n",
    "    inv.add(p)\n",
    "except Exception as e:\n",
    "    print(type(e).__name__, e)         # expect: ValueError \"Product id already exists.\"\n"
   ]
  },
  {
   "cell_type": "code",
   "execution_count": 15,
   "id": "1ebd3422-216e-4543-b9a4-8111eaef14f6",
   "metadata": {},
   "outputs": [
    {
     "name": "stdout",
     "output_type": "stream",
     "text": [
      "['P2']\n"
     ]
    }
   ],
   "source": [
    "inv = Inventory()\n",
    "p1 = Product(\"P1\", \"Pen\", \"Stationery\", 2.5, 4); p1.min_qty = 3\n",
    "p2 = Product(\"P2\", \"Notebook\", \"Stationery\", 3.0, 1); p2.min_qty = 2\n",
    "p3 = Product(\"P3\", \"Tape\", \"Office\", 1.0, 4)     # no min_qty -> treated as 0\n",
    "\n",
    "inv.add(p1); inv.add(p2); inv.add(p3)\n",
    "\n",
    "lows = inv.low_stock()\n",
    "print([p.product_id for p in lows])     # expect: ['P2']  (since 1 <= 2)\n"
   ]
  },
  {
   "cell_type": "code",
   "execution_count": 16,
   "id": "6d82ac80-efe9-4807-80ed-3eb7a8e231dd",
   "metadata": {},
   "outputs": [
    {
     "name": "stdout",
     "output_type": "stream",
     "text": [
      "True\n",
      "KeyError 'No such product.'\n"
     ]
    }
   ],
   "source": [
    "inv = Inventory()\n",
    "p = Product(\"P1\", \"Pen\", \"Stationery\", 2.5, 4)\n",
    "inv.add(p)\n",
    "\n",
    "removed = inv.remove(\"P1\")\n",
    "print(removed is p)                     # expect: True\n",
    "\n",
    "try:\n",
    "    inv.get(\"P1\")\n",
    "except Exception as e:\n",
    "    print(type(e).__name__, e)          # expect: KeyError \"No such product.\"\n"
   ]
  },
  {
   "cell_type": "code",
   "execution_count": 33,
   "id": "b51e80b0-d5d7-4c6e-a618-04782518386e",
   "metadata": {},
   "outputs": [
    {
     "name": "stdout",
     "output_type": "stream",
     "text": [
      "restock 0 -> ValueError\n",
      "restock -3 -> ValueError\n",
      "restock 2.5 -> ValueError\n",
      "restock 5 -> ValueError\n",
      "sell 0 -> ValueError\n",
      "sell -1 -> ValueError\n"
     ]
    }
   ],
   "source": [
    "inv = Inventory()\n",
    "p = Product(\"P1\", \"Pen\", \"Stationery\", 2.5, 4)\n",
    "inv.add(p)\n",
    "\n",
    "for bad in [0, -3, 2.5, \"5\"]:\n",
    "    try:\n",
    "        inv.restock(\"P1\", bad)\n",
    "    except Exception as e:\n",
    "        print(\"restock\", bad, \"->\", type(e).__name__)  # expect: ValueError for <=0 or type error per your checks\n",
    "\n",
    "for bad in [0, -1]:\n",
    "    try:\n",
    "        inv.sell(\"P1\", bad)\n",
    "    except Exception as e:\n",
    "        print(\"sell\", bad, \"->\", type(e).__name__)     # expect: ValueError for non-positive\n"
   ]
  },
  {
   "cell_type": "code",
   "execution_count": null,
   "id": "9981aaaa-9269-4d33-9462-537ae25ff611",
   "metadata": {},
   "outputs": [],
   "source": []
  }
 ],
 "metadata": {
  "kernelspec": {
   "display_name": "Python [conda env:base] *",
   "language": "python",
   "name": "conda-base-py"
  },
  "language_info": {
   "codemirror_mode": {
    "name": "ipython",
    "version": 3
   },
   "file_extension": ".py",
   "mimetype": "text/x-python",
   "name": "python",
   "nbconvert_exporter": "python",
   "pygments_lexer": "ipython3",
   "version": "3.13.5"
  }
 },
 "nbformat": 4,
 "nbformat_minor": 5
}
