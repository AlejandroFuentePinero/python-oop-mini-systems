{
 "cells": [
  {
   "cell_type": "markdown",
   "id": "250e03a9-c8da-477e-adbd-3a4ce6cdd7a4",
   "metadata": {},
   "source": [
    "# Credit Card Validator\n",
    "Takes in a credit card number from a common credit card vendor (Visa, MasterCard, American Express, Discoverer) and validates it to make sure that it is a valid number (look into how credit cards use a checksum)."
   ]
  },
  {
   "cell_type": "code",
   "execution_count": 1,
   "id": "1611af5b-60c0-47a0-9355-90f6182e1471",
   "metadata": {},
   "outputs": [],
   "source": [
    "import re"
   ]
  },
  {
   "cell_type": "code",
   "execution_count": 2,
   "id": "fbc46642-a0b4-4967-9953-4195a435e179",
   "metadata": {},
   "outputs": [],
   "source": [
    "def normalise_num(string):\n",
    "    return re.sub(r\"[-–—\\s]\", \"\", string)"
   ]
  },
  {
   "cell_type": "code",
   "execution_count": 3,
   "id": "da411696-51df-4d29-96c9-7c2480b27395",
   "metadata": {},
   "outputs": [],
   "source": [
    "def vendor_id(digits):\n",
    "    if not isinstance(digits, str) or not digits.isdigit():\n",
    "        return None\n",
    "\n",
    "    n = len(digits)\n",
    "\n",
    "    # Visa: starts with 4; length 13, 16, or 19\n",
    "    if digits.startswith('4') and n in (13, 16, 19):\n",
    "        return 'Visa'\n",
    "\n",
    "    # MasterCard: length 16 and (51–55) or (2221–2720)\n",
    "    if n == 16:\n",
    "        p2 = int(digits[:2])\n",
    "        p4 = int(digits[:4])\n",
    "        if 51 <= p2 <= 55 or 2221 <= p4 <= 2720:\n",
    "            return 'Mastercard'\n",
    "\n",
    "    # American Express: starts 34 or 37; length 15\n",
    "    if n == 15 and digits.startswith(('34', '37')):\n",
    "        return 'AmEx'\n",
    "\n",
    "    # Discover: length 16–19 and one of the allowed ranges\n",
    "    if n in (16, 17, 18, 19):\n",
    "        if digits.startswith('6011') or digits.startswith('65'):\n",
    "            return 'Discover'\n",
    "        p3 = int(digits[:3])\n",
    "        if 644 <= p3 <= 649:\n",
    "            return 'Discover'\n",
    "        p6 = int(digits[:6])\n",
    "        if 622126 <= p6 <= 622925:\n",
    "            return 'Discover'\n",
    "\n",
    "    return None\n"
   ]
  },
  {
   "cell_type": "code",
   "execution_count": 4,
   "id": "771d399c-d820-448d-acb6-3aa1de8534de",
   "metadata": {},
   "outputs": [],
   "source": [
    "def luhn_validation(digits):\n",
    "    if not digits.isdigit():\n",
    "        return False\n",
    "\n",
    "    total = 0\n",
    "    should_double = False  # rightmost digit is NOT doubled\n",
    "\n",
    "    for ch in reversed(digits):       # walk from right to left\n",
    "        d = int(ch)\n",
    "        if should_double:\n",
    "            d *= 2\n",
    "            if d > 9:\n",
    "                d -= 9               # same as summing digits of the product\n",
    "        total += d\n",
    "        should_double = not should_double\n",
    "\n",
    "    return total % 10 == 0"
   ]
  },
  {
   "cell_type": "code",
   "execution_count": 5,
   "id": "d2c8a0d7-ce6b-4413-a9e7-75f4a7fa955f",
   "metadata": {},
   "outputs": [],
   "source": [
    "def credit_card_number():\n",
    "\n",
    "    while True:\n",
    "\n",
    "        cc_number = input('Provide the credit card number you would like to validate: ')\n",
    "\n",
    "        print('\\n\\nNormalising the number for analysis [...]\\n')\n",
    "\n",
    "        normalised_number = normalise_num(cc_number)\n",
    "\n",
    "        try:\n",
    "            int(normalised_number)\n",
    "            break\n",
    "        except:\n",
    "            print('\\nThe input provided is not valid. Try again!\\n')\n",
    "            continue\n",
    "    return normalised_number"
   ]
  },
  {
   "cell_type": "code",
   "execution_count": null,
   "id": "c13620c0-60b8-4e5c-965f-bc128365bd2f",
   "metadata": {},
   "outputs": [
    {
     "name": "stdout",
     "output_type": "stream",
     "text": [
      "Welcome to the credit card validator\n",
      "\n",
      "\n"
     ]
    },
    {
     "name": "stdin",
     "output_type": "stream",
     "text": [
      "Provide the credit card number you would like to validate:  75456262\n"
     ]
    },
    {
     "name": "stdout",
     "output_type": "stream",
     "text": [
      "\n",
      "\n",
      "Normalising the number for analysis [...]\n",
      "\n",
      "\n",
      "Vendor/length don’t match a supported card. Try again.\n",
      "\n"
     ]
    }
   ],
   "source": [
    "print(\"Welcome to the credit card validator\\n\\n\")\n",
    "\n",
    "while True:\n",
    "    raw_input_str = credit_card_number()          # <-- call it\n",
    "    digits = normalise_num(raw_input_str)\n",
    "\n",
    "    if not digits.isdigit():\n",
    "        print(\"\\nInput contains non-digits after normalization. Try again.\\n\")\n",
    "        continue\n",
    "\n",
    "    brand = vendor_id(digits)                     # returns 'visa' / 'mastercard' / 'amex' / 'discover' or None\n",
    "    if brand is None:\n",
    "        print(\"\\nVendor/length don’t match a supported card. Try again.\\n\")\n",
    "        continue\n",
    "    else:\n",
    "        print(f\"\\nDetected brand: {brand}\\n\")\n",
    "\n",
    "    print(\"\\nUndergoing Luhn validation [...]\\n\")\n",
    "    if luhn_validation(digits):\n",
    "        print(\"\\nLuhn test passed!\\n\")\n",
    "        print(f'\\nYour credit card is  a valid {brand} credit card that has passed all tests!\\n')\n",
    "    \n",
    "    else:\n",
    "        print(\"\\nLuhn test failed.\\n\")\n",
    "        continue\n",
    "\n",
    "    again = input(\"Validate another? (y/n): \").strip().lower()\n",
    "    if again != \"y\":\n",
    "        break\n"
   ]
  },
  {
   "cell_type": "code",
   "execution_count": null,
   "id": "adfd78b5-28d5-4215-aee1-9be3a2859ab5",
   "metadata": {},
   "outputs": [],
   "source": []
  }
 ],
 "metadata": {
  "kernelspec": {
   "display_name": "Python [conda env:base] *",
   "language": "python",
   "name": "conda-base-py"
  },
  "language_info": {
   "codemirror_mode": {
    "name": "ipython",
    "version": 3
   },
   "file_extension": ".py",
   "mimetype": "text/x-python",
   "name": "python",
   "nbconvert_exporter": "python",
   "pygments_lexer": "ipython3",
   "version": "3.13.5"
  }
 },
 "nbformat": 4,
 "nbformat_minor": 5
}
