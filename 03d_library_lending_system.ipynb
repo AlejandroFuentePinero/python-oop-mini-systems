{
 "cells": [
  {
   "cell_type": "markdown",
   "id": "922dbb10-eeb0-4f54-a136-8a450c0f5781",
   "metadata": {},
   "source": [
    "# Media Library Lending System\n",
    "\n",
    "Build a small system to lend out different types of library items (books, DVDs, journals) to members, with type-specific loan periods and late fees."
   ]
  },
  {
   "cell_type": "code",
   "execution_count": 8,
   "id": "6ec6f733-0e8b-495d-87bb-6b6e9bf2b053",
   "metadata": {},
   "outputs": [],
   "source": [
    "class Item:\n",
    "\n",
    "    can_renew = True\n",
    "\n",
    "    def __init__(self, item_id, title, total_copies):\n",
    "\n",
    "        if not isinstance(total_copies, int):\n",
    "            raise TypeError(\"total_copies must be an int\")\n",
    "        if total_copies < 0:\n",
    "            raise ValueError(\"total_copies cannot be negative\")\n",
    "            \n",
    "        self.item_id = item_id\n",
    "        self.title = title\n",
    "        self.total_copies = total_copies\n",
    "    "
   ]
  },
  {
   "cell_type": "code",
   "execution_count": 9,
   "id": "fad80f1a-fe6b-4630-810b-5bc08ce523c9",
   "metadata": {},
   "outputs": [],
   "source": [
    "class Book(Item):\n",
    "    loan_period_days = 21\n",
    "    late_fee_per_day = 0.1"
   ]
  },
  {
   "cell_type": "code",
   "execution_count": 10,
   "id": "af0f0427-53e5-4769-b66e-c014d1515480",
   "metadata": {},
   "outputs": [],
   "source": [
    "class DVD(Item):\n",
    "    loan_period_days = 7\n",
    "    late_fee_per_day = 0.5"
   ]
  },
  {
   "cell_type": "code",
   "execution_count": 11,
   "id": "a2419864-9c20-4eb6-8d52-72d7e0b9056d",
   "metadata": {},
   "outputs": [],
   "source": [
    "class Journal(Item):\n",
    "    loan_period_days = 14\n",
    "    late_fee_per_day = 0.25\n",
    "    can_renew = False"
   ]
  },
  {
   "cell_type": "code",
   "execution_count": 12,
   "id": "17fa0832-37f8-4da4-8881-70c6ef9fe5a3",
   "metadata": {},
   "outputs": [],
   "source": [
    "class Member:\n",
    "\n",
    "    max_items_loan = 5\n",
    "\n",
    "    def __init__(self, member_id, name):\n",
    "        self.member_id = member_id\n",
    "        self.name = name"
   ]
  },
  {
   "cell_type": "code",
   "execution_count": 13,
   "id": "5aa21cda-65c5-4eb3-a4ad-faa71cd47bf8",
   "metadata": {},
   "outputs": [],
   "source": [
    "class Loan:\n",
    "    STATUS_ACTIVE = \"active\"\n",
    "    STATUS_RETURNED = \"returned\"\n",
    "\n",
    "    def __init__(self, loan_id, member_id, item_id, day_out, due_day):\n",
    "        self.loan_id = loan_id\n",
    "        self.member_id = member_id\n",
    "        self.item_id = item_id\n",
    "\n",
    "        self.day_out = day_out    \n",
    "        self.due_day = due_day    \n",
    "        self.status = Loan.STATUS_ACTIVE\n",
    "\n",
    "        self.renewals = 0\n",
    "        self.returned_day = None\n",
    "\n",
    "    def is_active(self):\n",
    "        return self.status == Loan.STATUS_ACTIVE\n",
    "\n",
    "    def is_overdue(self, on_day):\n",
    "        return self.is_active() and on_day > self.due_day\n",
    "\n",
    "    def days_late(self, day_returned):\n",
    "        \"\"\"Non-negative days late (0 if on/before due).\"\"\"\n",
    "        return max(0, day_returned - self.due_day)\n",
    "\n",
    "    def mark_returned(self, day_returned):\n",
    "        \"\"\"Mark as returned; Library computes fee using days_late * item.late_fee_per_day.\"\"\"\n",
    "        self.status = Loan.STATUS_RETURNED\n",
    "        self.returned_day = day_returned\n",
    "        return self.days_late(day_returned)\n",
    "\n",
    "    def bump_due(self, loan_period_days):\n",
    "        \"\"\"Renew helper: Library should check can_renew & renewal cap before calling.\"\"\"\n",
    "        self.due_day += loan_period_days\n",
    "        self.renewals += 1\n",
    "\n",
    "    def __repr__(self):\n",
    "        return (f\"Loan(id={self.loan_id}, member={self.member_id}, item={self.item_id}, \"\n",
    "                f\"out={self.day_out}, due={self.due_day}, status={self.status}, \"\n",
    "                f\"renews={self.renewals})\")"
   ]
  },
  {
   "cell_type": "code",
   "execution_count": null,
   "id": "b31f8476-ad84-49aa-9056-3a77d5536f9f",
   "metadata": {},
   "outputs": [],
   "source": []
  }
 ],
 "metadata": {
  "kernelspec": {
   "display_name": "Python [conda env:base] *",
   "language": "python",
   "name": "conda-base-py"
  },
  "language_info": {
   "codemirror_mode": {
    "name": "ipython",
    "version": 3
   },
   "file_extension": ".py",
   "mimetype": "text/x-python",
   "name": "python",
   "nbconvert_exporter": "python",
   "pygments_lexer": "ipython3",
   "version": "3.13.5"
  }
 },
 "nbformat": 4,
 "nbformat_minor": 5
}
