{
 "cells": [
  {
   "cell_type": "markdown",
   "id": "99c120e7-f1c9-4e0f-aa41-045177d400f5",
   "metadata": {},
   "source": [
    "# Bank Account Manager\n",
    "Create a class called Account which will be an abstract class for three other classes called CheckingAccount, SavingsAccount and BusinessAccount. Manage credits and debits from these accounts through an ATM style program."
   ]
  },
  {
   "cell_type": "code",
   "execution_count": 8,
   "id": "57996f4a-3a77-48f4-8a8e-bab4bf38cd5c",
   "metadata": {},
   "outputs": [],
   "source": [
    "class Account:\n",
    "    def __init__(self, account_id, owner, balance):\n",
    "        self.account_id = account_id\n",
    "        self.owner = owner\n",
    "        self.balance = balance\n",
    "        \n",
    "    def deposit(self, amount):\n",
    "        if amount <=0:\n",
    "            raise ValueError('Deposit must be positive')\n",
    "        else:\n",
    "            self.balance += amount\n",
    "\n",
    "    def withdraw(self, amount):\n",
    "        if amount <=0:\n",
    "            raise ValueError('Withdrawal must be positive')\n",
    "        elif amount > self.balance:\n",
    "            raise ValueError(f'Insufficient funds. Maximum withdrawal: {self.balance}')\n",
    "        else:\n",
    "            self.balance -= amount\n",
    "            print(f'Successful withdrawal. Current balance = {self.balance}')"
   ]
  },
  {
   "cell_type": "code",
   "execution_count": 9,
   "id": "21b7bf78-fd70-4fe1-ab7e-dae073c0c73a",
   "metadata": {},
   "outputs": [],
   "source": [
    "class CheckingAccount(Account):\n",
    "    def __init__(self, account_id, owner, balance, overdraft_limit):\n",
    "        super().__init__(account_id, owner, balance)\n",
    "        self.overdraft_limit = overdraft_limit\n",
    "    \n",
    "    def withdraw(self, amount):\n",
    "        if amount <=0:\n",
    "            raise ValueError('Withdrawal must be positive')\n",
    "        elif self.balance - amount < -self.overdraft_limit:\n",
    "            raise ValueError(\"Exceeds overdraft limit.\")\n",
    "        else:\n",
    "            self.balance -= amount\n",
    "            print(f'Successful withdrawal. Current balance = {self.balance}')\n",
    "        "
   ]
  },
  {
   "cell_type": "code",
   "execution_count": 10,
   "id": "facb9134-f6e1-47aa-b670-ad812d349c26",
   "metadata": {},
   "outputs": [],
   "source": [
    "class SavingsAccount(Account):\n",
    "    # Uses the base class withdraw rule (no overdraft).\n",
    "    pass"
   ]
  },
  {
   "cell_type": "code",
   "execution_count": 11,
   "id": "63229414-dc8d-4160-95c2-79664374d045",
   "metadata": {},
   "outputs": [],
   "source": [
    "class BusinessAccount(Account):\n",
    "    def __init__(self, account_id, owner, balance, fee_pct=0.01):  # 1% fee\n",
    "        super().__init__(account_id, owner, balance)\n",
    "        self.fee_pct = fee_pct\n",
    "\n",
    "    def withdraw(self, amount):\n",
    "        if amount <= 0:\n",
    "            raise ValueError(\"Withdrawal must be positive.\")\n",
    "        total = amount * (1 + self.fee_pct)   # amount + fee\n",
    "        # Reuse the base \"no overdraft\" rule:\n",
    "        super().withdraw(total)\n",
    "        print(f\"Withdrew {amount} + fee {total-amount:.2f}. Balance = {self.balance:.2f}\")\n",
    "                "
   ]
  },
  {
   "cell_type": "code",
   "execution_count": 12,
   "id": "47d49667-dce3-4596-aaca-353fc069e157",
   "metadata": {},
   "outputs": [],
   "source": [
    "class Bank:\n",
    "    def __init__(self):\n",
    "        self._accounts = {}\n",
    "        \n",
    "    def add_account(self, account: Account):\n",
    "        if account.account_id in self._accounts:\n",
    "            raise ValueError(\"Account id already exists.\")\n",
    "        self._accounts[account.account_id] = account\n",
    "\n",
    "    def get(self, account_id):\n",
    "        if account_id not in self._accounts:\n",
    "            raise KeyError(\"No such account.\")\n",
    "        return self._accounts[account_id]\n",
    "\n",
    "    def transfer(self, from_id: str, to_id: str, amount: float) -> None:\n",
    "        \"\"\"\n",
    "        Move money using each account's rules (withdraw may fail).\n",
    "        \"\"\"\n",
    "        src = self.get(from_id)\n",
    "        dst = self.get(to_id)\n",
    "        # Withdraw first; if it raises, nothing happens.\n",
    "        src.withdraw(amount)\n",
    "        # If withdraw succeeds, deposit to target.\n",
    "        dst.deposit(amount)"
   ]
  },
  {
   "cell_type": "code",
   "execution_count": null,
   "id": "bc78a679-a55a-4645-ac45-b23b3c0d20da",
   "metadata": {},
   "outputs": [],
   "source": []
  },
  {
   "cell_type": "code",
   "execution_count": 13,
   "id": "2253d904-73c0-4cd4-a196-ea3f8850d435",
   "metadata": {},
   "outputs": [
    {
     "name": "stdout",
     "output_type": "stream",
     "text": [
      "Balances after deposits: 125.0 100.0 1200.0\n"
     ]
    }
   ],
   "source": [
    "chk = CheckingAccount(\"C-001\", \"Ana\", balance=100.0, overdraft_limit=200.0)\n",
    "sav = SavingsAccount(\"S-001\", \"Luis\", balance=50.0)\n",
    "biz = BusinessAccount(\"B-001\", \"ShopCo\", balance=1000.0, fee_pct=0.01)  # 1% fee\n",
    "\n",
    "chk.deposit(25.0)   # -> 125.0\n",
    "sav.deposit(50.0)   # -> 100.0\n",
    "biz.deposit(200.0)  # -> 1200.0\n",
    "\n",
    "print(\"Balances after deposits:\",\n",
    "      chk.balance, sav.balance, biz.balance)\n",
    "# expected: 125.0, 100.0, 1200.0\n"
   ]
  },
  {
   "cell_type": "code",
   "execution_count": 14,
   "id": "923096f0-d1fa-4f89-a4c3-145d7ab14bcb",
   "metadata": {},
   "outputs": [
    {
     "name": "stdout",
     "output_type": "stream",
     "text": [
      "Successful withdrawal. Current balance = -25.0\n",
      "Checking after withdraw: -25.0\n",
      "Checking error: Exceeds overdraft limit.\n"
     ]
    }
   ],
   "source": [
    "chk.withdraw(150.0)           # 125 - 150 = -25 (OK, within -200 limit)\n",
    "print(\"Checking after withdraw:\", chk.balance)  # expected: -25.0\n",
    "\n",
    "try:\n",
    "    chk.withdraw(200.0)       # would go to -225 -> exceeds limit -> error\n",
    "except ValueError as e:\n",
    "    print(\"Checking error:\", e)\n"
   ]
  },
  {
   "cell_type": "code",
   "execution_count": 15,
   "id": "88830d76-59a9-4d85-a8a4-2c246e4a399c",
   "metadata": {},
   "outputs": [
    {
     "name": "stdout",
     "output_type": "stream",
     "text": [
      "Successful withdrawal. Current balance = 20.0\n",
      "Savings after withdraw: 20.0\n",
      "Savings error: Insufficient funds. Maximum withdrawal: 20.0\n"
     ]
    }
   ],
   "source": [
    "sav.withdraw(80.0)            # 100 - 80 = 20 (OK)\n",
    "print(\"Savings after withdraw:\", sav.balance)  # expected: 20.0\n",
    "\n",
    "try:\n",
    "    sav.withdraw(25.0)        # 20 - 25 < 0 -> error\n",
    "except ValueError as e:\n",
    "    print(\"Savings error:\", e)\n"
   ]
  },
  {
   "cell_type": "code",
   "execution_count": 16,
   "id": "2f09f76e-03f6-4177-810f-7718855568f6",
   "metadata": {},
   "outputs": [
    {
     "name": "stdout",
     "output_type": "stream",
     "text": [
      "Successful withdrawal. Current balance = 1099.0\n",
      "Withdrew 100.0 + fee 1.00. Balance = 1099.00\n",
      "Business after withdraw: 1099.0\n",
      "Business error: Withdrawal must be positive.\n"
     ]
    }
   ],
   "source": [
    "biz.withdraw(100.0)           # total = 100 * 1.01 = 101\n",
    "print(\"Business after withdraw:\", biz.balance)  # expected: 1200 - 101 = 1099.0\n",
    "\n",
    "try:\n",
    "    biz.withdraw(-5)          # negative -> error\n",
    "except ValueError as e:\n",
    "    print(\"Business error:\", e)\n"
   ]
  },
  {
   "cell_type": "code",
   "execution_count": 17,
   "id": "58e20d4f-8300-4a6e-aa76-03bd255041d8",
   "metadata": {},
   "outputs": [
    {
     "name": "stdout",
     "output_type": "stream",
     "text": [
      "Successful withdrawal. Current balance = -65.0\n",
      "After transfer (chk -> sav 40): -65.0 60.0\n",
      "Bank error: 'No such account.'\n",
      "Bank error: Insufficient funds. Maximum withdrawal: 60.0\n"
     ]
    }
   ],
   "source": [
    "bank = Bank()\n",
    "bank.add_account(chk)\n",
    "bank.add_account(sav)\n",
    "bank.add_account(biz)\n",
    "\n",
    "# transfer 40 from checking to savings (uses checking’s overdraft rule)\n",
    "bank.transfer(\"C-001\", \"S-001\", 40.0)   # withdraw first, then deposit\n",
    "\n",
    "print(\"After transfer (chk -> sav 40):\", chk.balance, sav.balance)\n",
    "# expected: chk: -65.0  (was -25 - 40)\n",
    "#           sav: 60.0   (was 20 + 40)\n",
    "\n",
    "# error examples:\n",
    "try:\n",
    "    bank.transfer(\"NOPE\", \"S-001\", 10.0)\n",
    "except KeyError as e:\n",
    "    print(\"Bank error:\", e)\n",
    "\n",
    "try:\n",
    "    bank.transfer(\"S-001\", \"C-001\", 1000.0)  # savings can’t overdraft\n",
    "except ValueError as e:\n",
    "    print(\"Bank error:\", e)\n"
   ]
  },
  {
   "cell_type": "code",
   "execution_count": null,
   "id": "b9179889-44a5-4421-aac8-db91ec79f38b",
   "metadata": {},
   "outputs": [],
   "source": []
  }
 ],
 "metadata": {
  "kernelspec": {
   "display_name": "Python [conda env:base] *",
   "language": "python",
   "name": "conda-base-py"
  },
  "language_info": {
   "codemirror_mode": {
    "name": "ipython",
    "version": 3
   },
   "file_extension": ".py",
   "mimetype": "text/x-python",
   "name": "python",
   "nbconvert_exporter": "python",
   "pygments_lexer": "ipython3",
   "version": "3.13.5"
  }
 },
 "nbformat": 4,
 "nbformat_minor": 5
}
